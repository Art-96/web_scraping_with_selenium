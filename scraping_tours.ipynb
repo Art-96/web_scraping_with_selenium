{
 "cells": [
  {
   "cell_type": "code",
   "execution_count": 6,
   "metadata": {},
   "outputs": [],
   "source": [
    "import re\n",
    "import time\n",
    "import builtwith\n",
    "import requests\n",
    "import pandas as pd\n",
    "from bs4 import BeautifulSoup as BS\n",
    "from selenium import webdriver\n",
    "from selenium.webdriver.common.by import By\n",
    "from selenium.webdriver.support.ui import WebDriverWait\n",
    "from selenium.common.exceptions import WebDriverException\n",
    "from selenium.webdriver.common.keys import Keys\n",
    "from selenium.webdriver.common.action_chains import ActionChains\n",
    "from selenium.webdriver.support import expected_conditions as EC"
   ]
  },
  {
   "cell_type": "code",
   "execution_count": 7,
   "metadata": {},
   "outputs": [],
   "source": [
    "html=requests.get('https://www.tours.com/by_country.htm')"
   ]
  },
  {
   "cell_type": "code",
   "execution_count": 8,
   "metadata": {},
   "outputs": [],
   "source": [
    "soup=BS(html.text, 'lxml')"
   ]
  },
  {
   "cell_type": "code",
   "execution_count": 9,
   "metadata": {},
   "outputs": [],
   "source": [
    "links=[i['href'] for i in soup.findAll('a', class_='hvr')]"
   ]
  },
  {
   "cell_type": "code",
   "execution_count": 12,
   "metadata": {},
   "outputs": [],
   "source": [
    "del links[-1]"
   ]
  },
  {
   "cell_type": "code",
   "execution_count": 13,
   "metadata": {},
   "outputs": [
    {
     "data": {
      "text/plain": [
       "'/tours_vacations/zimbabwe.htm'"
      ]
     },
     "execution_count": 13,
     "metadata": {},
     "output_type": "execute_result"
    }
   ],
   "source": [
    "links[-1]"
   ]
  },
  {
   "cell_type": "code",
   "execution_count": 14,
   "metadata": {},
   "outputs": [],
   "source": [
    "link=['https://www.tours.com'+ str(i) for i in links]"
   ]
  },
  {
   "cell_type": "code",
   "execution_count": 15,
   "metadata": {},
   "outputs": [
    {
     "data": {
      "text/plain": [
       "['https://www.tours.com/tours_vacations/afghanistan.htm',\n",
       " 'https://www.tours.com/tours_vacations/albania.htm',\n",
       " 'https://www.tours.com/tours_vacations/algeria.htm',\n",
       " 'https://www.tours.com/tours_vacations/andorra.htm',\n",
       " 'https://www.tours.com/tours_vacations/angola.htm',\n",
       " 'https://www.tours.com/tours_vacations/anguilla.htm',\n",
       " 'https://www.tours.com/tours_vacations/antarctica_(south_pole).htm',\n",
       " 'https://www.tours.com/tours_vacations/antigua.htm',\n",
       " 'https://www.tours.com/tours_vacations/arctic_(north_pole).htm',\n",
       " 'https://www.tours.com/tours_vacations/argentina.htm',\n",
       " 'https://www.tours.com/tours_vacations/armenia.htm',\n",
       " 'https://www.tours.com/tours_vacations/aruba.htm',\n",
       " 'https://www.tours.com/tours_vacations/australia.htm',\n",
       " 'https://www.tours.com/tours_vacations/austria.htm',\n",
       " 'https://www.tours.com/tours_vacations/azerbaijan.htm',\n",
       " 'https://www.tours.com/tours_vacations/bahamas.htm',\n",
       " 'https://www.tours.com/tours_vacations/bahrain.htm',\n",
       " 'https://www.tours.com/tours_vacations/baja.htm',\n",
       " 'https://www.tours.com/tours_vacations/bali.htm',\n",
       " 'https://www.tours.com/tours_vacations/bangladesh.htm',\n",
       " 'https://www.tours.com/tours_vacations/barbados.htm',\n",
       " 'https://www.tours.com/tours_vacations/belarus.htm',\n",
       " 'https://www.tours.com/tours_vacations/belgium.htm',\n",
       " 'https://www.tours.com/tours_vacations/belize.htm',\n",
       " 'https://www.tours.com/tours_vacations/benin.htm',\n",
       " 'https://www.tours.com/tours_vacations/bermuda.htm',\n",
       " 'https://www.tours.com/tours_vacations/bhutan.htm',\n",
       " 'https://www.tours.com/tours_vacations/bolivia.htm',\n",
       " 'https://www.tours.com/tours_vacations/bonaire.htm',\n",
       " 'https://www.tours.com/tours_vacations/borneo.htm',\n",
       " 'https://www.tours.com/tours_vacations/bosnia-herzegovina.htm',\n",
       " 'https://www.tours.com/tours_vacations/botswana.htm',\n",
       " 'https://www.tours.com/tours_vacations/brazil.htm',\n",
       " 'https://www.tours.com/tours_vacations/british_virgin_islands.htm',\n",
       " 'https://www.tours.com/tours_vacations/bulgaria.htm',\n",
       " 'https://www.tours.com/tours_vacations/burkina_faso.htm',\n",
       " 'https://www.tours.com/tours_vacations/burundi.htm',\n",
       " 'https://www.tours.com/tours_vacations/cambodia.htm',\n",
       " 'https://www.tours.com/tours_vacations/cameroon.htm',\n",
       " 'https://www.tours.com/tours_vacations/canada.htm',\n",
       " 'https://www.tours.com/tours_vacations/canary_islands.htm',\n",
       " 'https://www.tours.com/tours_vacations/cayman_islands.htm',\n",
       " 'https://www.tours.com/tours_vacations/central_african_republic.htm',\n",
       " 'https://www.tours.com/tours_vacations/chad.htm',\n",
       " 'https://www.tours.com/tours_vacations/chile.htm',\n",
       " 'https://www.tours.com/tours_vacations/china.htm',\n",
       " 'https://www.tours.com/tours_vacations/colombia.htm',\n",
       " 'https://www.tours.com/tours_vacations/congo_(republic_of).htm',\n",
       " 'https://www.tours.com/tours_vacations/cook_islands.htm',\n",
       " 'https://www.tours.com/tours_vacations/costa_rica.htm',\n",
       " 'https://www.tours.com/tours_vacations/croatia.htm',\n",
       " 'https://www.tours.com/tours_vacations/cuba.htm',\n",
       " 'https://www.tours.com/tours_vacations/curacao.htm',\n",
       " 'https://www.tours.com/tours_vacations/cyprus.htm',\n",
       " 'https://www.tours.com/tours_vacations/czech_republic.htm',\n",
       " 'https://www.tours.com/tours_vacations/denmark.htm',\n",
       " 'https://www.tours.com/tours_vacations/djibouti.htm',\n",
       " 'https://www.tours.com/tours_vacations/dominica.htm',\n",
       " 'https://www.tours.com/tours_vacations/dominican_republic.htm',\n",
       " 'https://www.tours.com/tours_vacations/dubai.htm',\n",
       " 'https://www.tours.com/tours_vacations/easter_island.htm',\n",
       " 'https://www.tours.com/tours_vacations/ecuador.htm',\n",
       " 'https://www.tours.com/tours_vacations/egypt.htm',\n",
       " 'https://www.tours.com/tours_vacations/el_salvador.htm',\n",
       " 'https://www.tours.com/tours_vacations/england.htm',\n",
       " 'https://www.tours.com/tours_vacations/eritrea.htm',\n",
       " 'https://www.tours.com/tours_vacations/estonia.htm',\n",
       " 'https://www.tours.com/tours_vacations/ethiopia.htm',\n",
       " 'https://www.tours.com/tours_vacations/faroe_islands.htm',\n",
       " 'https://www.tours.com/tours_vacations/fiji.htm',\n",
       " 'https://www.tours.com/tours_vacations/finland.htm',\n",
       " 'https://www.tours.com/tours_vacations/france.htm',\n",
       " 'https://www.tours.com/tours_vacations/french_guiana.htm',\n",
       " 'https://www.tours.com/tours_vacations/french_polynesia.htm',\n",
       " 'https://www.tours.com/tours_vacations/french_west_indies.htm',\n",
       " 'https://www.tours.com/tours_vacations/gabon.htm',\n",
       " 'https://www.tours.com/tours_vacations/galapagos_islands.htm',\n",
       " 'https://www.tours.com/tours_vacations/georgia.htm',\n",
       " 'https://www.tours.com/tours_vacations/germany.htm',\n",
       " 'https://www.tours.com/tours_vacations/ghana.htm',\n",
       " 'https://www.tours.com/tours_vacations/gibraltar.htm',\n",
       " 'https://www.tours.com/tours_vacations/greece.htm',\n",
       " 'https://www.tours.com/tours_vacations/greenland.htm',\n",
       " 'https://www.tours.com/tours_vacations/grenada.htm',\n",
       " 'https://www.tours.com/tours_vacations/guadeloupe.htm',\n",
       " 'https://www.tours.com/tours_vacations/guatemala.htm',\n",
       " 'https://www.tours.com/tours_vacations/guinea.htm',\n",
       " 'https://www.tours.com/tours_vacations/guyana.htm',\n",
       " 'https://www.tours.com/tours_vacations/haiti.htm',\n",
       " 'https://www.tours.com/tours_vacations/herzegovina.htm',\n",
       " 'https://www.tours.com/tours_vacations/honduras.htm',\n",
       " 'https://www.tours.com/tours_vacations/hong_kong.htm',\n",
       " 'https://www.tours.com/tours_vacations/hungary.htm',\n",
       " 'https://www.tours.com/tours_vacations/iceland.htm',\n",
       " 'https://www.tours.com/tours_vacations/india.htm',\n",
       " 'https://www.tours.com/tours_vacations/indonesia.htm',\n",
       " 'https://www.tours.com/tours_vacations/iran.htm',\n",
       " 'https://www.tours.com/tours_vacations/iraq.htm',\n",
       " 'https://www.tours.com/tours_vacations/ireland_(eire).htm',\n",
       " 'https://www.tours.com/tours_vacations/israel.htm',\n",
       " 'https://www.tours.com/tours_vacations/italy.htm',\n",
       " 'https://www.tours.com/tours_vacations/ivory_coast_(cote_divoire).htm',\n",
       " 'https://www.tours.com/tours_vacations/jamaica.htm',\n",
       " 'https://www.tours.com/tours_vacations/japan.htm',\n",
       " 'https://www.tours.com/tours_vacations/jordan.htm',\n",
       " 'https://www.tours.com/tours_vacations/kazakhstan.htm',\n",
       " 'https://www.tours.com/tours_vacations/kenya.htm',\n",
       " 'https://www.tours.com/tours_vacations/kiribati.htm',\n",
       " 'https://www.tours.com/tours_vacations/kosovo.htm',\n",
       " 'https://www.tours.com/tours_vacations/kuwait.htm',\n",
       " 'https://www.tours.com/tours_vacations/kyrgyzstan.htm',\n",
       " 'https://www.tours.com/tours_vacations/laos.htm',\n",
       " 'https://www.tours.com/tours_vacations/latvia.htm',\n",
       " 'https://www.tours.com/tours_vacations/lebanon.htm',\n",
       " 'https://www.tours.com/tours_vacations/lesotho.htm',\n",
       " 'https://www.tours.com/tours_vacations/liberia.htm',\n",
       " 'https://www.tours.com/tours_vacations/libya.htm',\n",
       " 'https://www.tours.com/tours_vacations/liechtenstein.htm',\n",
       " 'https://www.tours.com/tours_vacations/lithuania.htm',\n",
       " 'https://www.tours.com/tours_vacations/luxembourg.htm',\n",
       " 'https://www.tours.com/tours_vacations/macedonia.htm',\n",
       " 'https://www.tours.com/tours_vacations/madagascar.htm',\n",
       " 'https://www.tours.com/tours_vacations/madeira_islands.htm',\n",
       " 'https://www.tours.com/tours_vacations/malawi.htm',\n",
       " 'https://www.tours.com/tours_vacations/malaysia.htm',\n",
       " 'https://www.tours.com/tours_vacations/maldives.htm',\n",
       " 'https://www.tours.com/tours_vacations/mali.htm',\n",
       " 'https://www.tours.com/tours_vacations/malta.htm',\n",
       " 'https://www.tours.com/tours_vacations/martinique.htm',\n",
       " 'https://www.tours.com/tours_vacations/mauritania.htm',\n",
       " 'https://www.tours.com/tours_vacations/mauritius.htm',\n",
       " 'https://www.tours.com/tours_vacations/mexico.htm',\n",
       " 'https://www.tours.com/tours_vacations/micronesia.htm',\n",
       " 'https://www.tours.com/tours_vacations/moldova.htm',\n",
       " 'https://www.tours.com/tours_vacations/monaco.htm',\n",
       " 'https://www.tours.com/tours_vacations/mongolia.htm',\n",
       " 'https://www.tours.com/tours_vacations/montenegro.htm',\n",
       " 'https://www.tours.com/tours_vacations/montserrat.htm',\n",
       " 'https://www.tours.com/tours_vacations/morocco.htm',\n",
       " 'https://www.tours.com/tours_vacations/mozambique.htm',\n",
       " 'https://www.tours.com/tours_vacations/myanmar_(burma).htm',\n",
       " 'https://www.tours.com/tours_vacations/namibia.htm',\n",
       " 'https://www.tours.com/tours_vacations/nauru.htm',\n",
       " 'https://www.tours.com/tours_vacations/nepal.htm',\n",
       " 'https://www.tours.com/tours_vacations/netherlands.htm',\n",
       " 'https://www.tours.com/tours_vacations/netherlands_antilles.htm',\n",
       " 'https://www.tours.com/tours_vacations/new_caledonia.htm',\n",
       " 'https://www.tours.com/tours_vacations/new_zealand.htm',\n",
       " 'https://www.tours.com/tours_vacations/nicaragua.htm',\n",
       " 'https://www.tours.com/tours_vacations/niger.htm',\n",
       " 'https://www.tours.com/tours_vacations/nigeria.htm',\n",
       " 'https://www.tours.com/tours_vacations/norway.htm',\n",
       " 'https://www.tours.com/tours_vacations/oman.htm',\n",
       " 'https://www.tours.com/tours_vacations/pakistan.htm',\n",
       " 'https://www.tours.com/tours_vacations/panama.htm',\n",
       " 'https://www.tours.com/tours_vacations/papua_new_guinea.htm',\n",
       " 'https://www.tours.com/tours_vacations/paraguay.htm',\n",
       " 'https://www.tours.com/tours_vacations/patagonia.htm',\n",
       " 'https://www.tours.com/tours_vacations/peru.htm',\n",
       " 'https://www.tours.com/tours_vacations/philippines.htm',\n",
       " 'https://www.tours.com/tours_vacations/pitcairn_island.htm',\n",
       " 'https://www.tours.com/tours_vacations/poland.htm',\n",
       " 'https://www.tours.com/tours_vacations/portugal.htm',\n",
       " 'https://www.tours.com/tours_vacations/puerto_rico.htm',\n",
       " 'https://www.tours.com/tours_vacations/qatar.htm',\n",
       " 'https://www.tours.com/tours_vacations/reunion.htm',\n",
       " 'https://www.tours.com/tours_vacations/romania.htm',\n",
       " 'https://www.tours.com/tours_vacations/russia.htm',\n",
       " 'https://www.tours.com/tours_vacations/rwanda.htm',\n",
       " 'https://www.tours.com/tours_vacations/samoa.htm',\n",
       " 'https://www.tours.com/tours_vacations/saudi_arabia.htm',\n",
       " 'https://www.tours.com/tours_vacations/scotland.htm',\n",
       " 'https://www.tours.com/tours_vacations/senegal.htm',\n",
       " 'https://www.tours.com/tours_vacations/serbia.htm',\n",
       " 'https://www.tours.com/tours_vacations/seychelles.htm',\n",
       " 'https://www.tours.com/tours_vacations/sicily.htm',\n",
       " 'https://www.tours.com/tours_vacations/singapore.htm',\n",
       " 'https://www.tours.com/tours_vacations/slovakia.htm',\n",
       " 'https://www.tours.com/tours_vacations/slovenia.htm',\n",
       " 'https://www.tours.com/tours_vacations/solomon_islands.htm',\n",
       " 'https://www.tours.com/tours_vacations/somali_republic.htm',\n",
       " 'https://www.tours.com/tours_vacations/south_africa.htm',\n",
       " 'https://www.tours.com/tours_vacations/south_korea.htm',\n",
       " 'https://www.tours.com/tours_vacations.htm?cty=OS',\n",
       " 'https://www.tours.com/tours_vacations/spain.htm',\n",
       " 'https://www.tours.com/tours_vacations/sri_lanka.htm',\n",
       " 'https://www.tours.com/tours_vacations/st._christopher_and_nevis.htm',\n",
       " 'https://www.tours.com/tours_vacations/st._kittsandnevis.htm',\n",
       " 'https://www.tours.com/tours_vacations/st._lucia.htm',\n",
       " 'https://www.tours.com/tours_vacations/st._martinandsaint_maartin.htm',\n",
       " 'https://www.tours.com/tours_vacations/st._vincent_and_grenadines.htm',\n",
       " 'https://www.tours.com/tours_vacations/sudan.htm',\n",
       " 'https://www.tours.com/tours_vacations/surinam.htm',\n",
       " 'https://www.tours.com/tours_vacations/swaziland.htm',\n",
       " 'https://www.tours.com/tours_vacations/sweden.htm',\n",
       " 'https://www.tours.com/tours_vacations/switzerland.htm',\n",
       " 'https://www.tours.com/tours_vacations/tahiti.htm',\n",
       " 'https://www.tours.com/tours_vacations/taiwan.htm',\n",
       " 'https://www.tours.com/tours_vacations/tajikistan.htm',\n",
       " 'https://www.tours.com/tours_vacations/tanzania.htm',\n",
       " 'https://www.tours.com/tours_vacations/tasmania.htm',\n",
       " 'https://www.tours.com/tours_vacations/thailand.htm',\n",
       " 'https://www.tours.com/tours_vacations/the_gambia.htm',\n",
       " 'https://www.tours.com/tours_vacations/tibet.htm',\n",
       " 'https://www.tours.com/tours_vacations/togo.htm',\n",
       " 'https://www.tours.com/tours_vacations/tokelau_islands.htm',\n",
       " 'https://www.tours.com/tours_vacations/tonga.htm',\n",
       " 'https://www.tours.com/tours_vacations/trinidad_and_tobago.htm',\n",
       " 'https://www.tours.com/tours_vacations/tunisia.htm',\n",
       " 'https://www.tours.com/tours_vacations/turkey.htm',\n",
       " 'https://www.tours.com/tours_vacations/turkmenistan.htm',\n",
       " 'https://www.tours.com/tours_vacations/turks_and_caicos_islands.htm',\n",
       " 'https://www.tours.com/tours_vacations/uganda.htm',\n",
       " 'https://www.tours.com/tours_vacations/ukraine.htm',\n",
       " 'https://www.tours.com/tours_vacations/united_arab_emirates.htm',\n",
       " 'https://www.tours.com/tours_vacations/united_kingdom.htm',\n",
       " 'https://www.tours.com/tours_vacations/united_states.htm',\n",
       " 'https://www.tours.com/tours_vacations/uruguay.htm',\n",
       " 'https://www.tours.com/tours_vacations/uzbekistan.htm',\n",
       " 'https://www.tours.com/tours_vacations/vanuatu.htm',\n",
       " 'https://www.tours.com/tours_vacations/vatican_city.htm',\n",
       " 'https://www.tours.com/tours_vacations/venezuela.htm',\n",
       " 'https://www.tours.com/tours_vacations/vietnam.htm',\n",
       " 'https://www.tours.com/tours_vacations/virgin_islands_(us).htm',\n",
       " 'https://www.tours.com/tours_vacations/wales.htm',\n",
       " 'https://www.tours.com/tours_vacations/yemen.htm',\n",
       " 'https://www.tours.com/tours_vacations/zambia.htm',\n",
       " 'https://www.tours.com/tours_vacations/zimbabwe.htm']"
      ]
     },
     "execution_count": 15,
     "metadata": {},
     "output_type": "execute_result"
    }
   ],
   "source": [
    "link"
   ]
  },
  {
   "cell_type": "code",
   "execution_count": 17,
   "metadata": {},
   "outputs": [],
   "source": [
    "links_page2=[]"
   ]
  },
  {
   "cell_type": "code",
   "execution_count": 18,
   "metadata": {},
   "outputs": [],
   "source": [
    "def init_driver():\n",
    "    driver=webdriver.Chrome(r'C:\\Users\\Admin\\Documents\\chromedriver_win32\\chromedriver')\n",
    "    driver.wait = WebDriverWait(driver, 5)\n",
    "    return driver"
   ]
  },
  {
   "cell_type": "code",
   "execution_count": 19,
   "metadata": {},
   "outputs": [],
   "source": [
    "def lookup(driver, timeout, link):\n",
    "    driver.get(link)\n",
    "    scroll_pause_time = timeout\n",
    "    while True:\n",
    "        for i in driver.find_elements_by_css_selector('div.b>a'):\n",
    "            links_page2.append(i.get_attribute('href'))\n",
    "    \n",
    "        try:\n",
    "            driver.execute_script(\"window.scrollTo(0, document.body.scrollHeight);\")\n",
    "            element = WebDriverWait(driver, 10).until(EC.element_to_be_clickable((By.LINK_TEXT, \"Next\")))\n",
    "            element.click()\n",
    "        except:\n",
    "            return links_page2"
   ]
  },
  {
   "cell_type": "code",
   "execution_count": 21,
   "metadata": {},
   "outputs": [],
   "source": [
    "for i in link[0:5]:\n",
    "    driver = init_driver()\n",
    "    links_page2=lookup(driver, timeout=5, link=i)\n",
    "    driver.quit()"
   ]
  },
  {
   "cell_type": "code",
   "execution_count": 23,
   "metadata": {},
   "outputs": [
    {
     "data": {
      "text/plain": [
       "['https://www.tours.com/tour_operators/bestway-tours-and-safaris.htm',\n",
       " 'https://www.tours.com/tour_operators/urbane-nomads.htm',\n",
       " 'https://www.tours.com/tour_operators/hidden-trails-international-horseback-riding-and-outdoor-adventures.htm',\n",
       " 'https://www.tours.com/tour_operators/adventures-abroad.htm',\n",
       " 'https://www.tours.com/tour_operators/kompas-holidays-international.htm',\n",
       " 'https://www.tours.com/tour_operators/adventure-motorcycle-tours.htm',\n",
       " 'https://www.tours.com/tour_operators/ahi-international-corporation.htm',\n",
       " 'https://www.tours.com/tour_operators/albania-explorer.htm',\n",
       " 'https://www.tours.com/tour_operators/auron-expeditions.htm',\n",
       " 'https://www.tours.com/tour_operators/click2travel-romania.htm',\n",
       " 'https://www.tours.com/tour_operators/edialtour.htm',\n",
       " 'https://www.tours.com/tour_operators/exeter-international.htm',\n",
       " 'https://www.tours.com/tour_operators/explore-worldwide.htm',\n",
       " 'https://www.tours.com/tour_operators/families-worldwide.htm',\n",
       " 'https://www.tours.com/tour_operators/freewheeling-adventures.htm',\n",
       " 'https://www.tours.com/tour_operators/jayway-travel.htm',\n",
       " 'https://www.tours.com/tour_operators/juicy-tours.htm',\n",
       " 'https://www.tours.com/tour_operators/ke-adventure-travel.htm',\n",
       " 'https://www.tours.com/tour_operators/kudu-travel.htm',\n",
       " 'https://www.tours.com/tour_operators/mir-corporation.htm',\n",
       " 'https://www.tours.com/tour_operators/sea-kayak-adventures.htm',\n",
       " 'https://www.tours.com/tour_operators/select-international-tours-and-cruises.htm',\n",
       " 'https://www.tours.com/tour_operators/serious-traveler.htm',\n",
       " 'https://www.tours.com/tour_operators/the-traveller.htm',\n",
       " 'https://www.tours.com/tour_operators/tours-albania.htm',\n",
       " 'https://www.tours.com/tour_operators/travcoa-world-tours.htm',\n",
       " 'https://www.tours.com/tour_operators/ulpia-tours-ltd.htm',\n",
       " 'https://www.tours.com/tour_operators/walks-worldwide.htm',\n",
       " 'https://www.tours.com/tour_operators/womantours-1.htm',\n",
       " 'https://www.tours.com/tour_operators/adventures-abroad.htm',\n",
       " 'https://www.tours.com/tour_operators/archaeological-tours.htm',\n",
       " 'https://www.tours.com/tour_operators/bestway-tours-and-safaris.htm',\n",
       " 'https://www.tours.com/tour_operators/caravan-serai-tours.htm',\n",
       " 'https://www.tours.com/tour_operators/journeys-international.htm',\n",
       " 'https://www.tours.com/tour_operators/the-traveller.htm',\n",
       " 'https://www.tours.com/tour_operators/alpine-adventures-and-anywhere-adventures.htm',\n",
       " 'https://www.tours.com/tour_operators/beyond-boundaries-travel.htm',\n",
       " 'https://www.tours.com/tour_operators/earthwatch-institute.htm',\n",
       " 'https://www.tours.com/tour_operators/global-journeys.htm',\n",
       " 'https://www.tours.com/tour_operators/skieurope.htm',\n",
       " 'https://www.tours.com/tour_operators/africa-travel.htm',\n",
       " 'https://www.tours.com/tour_operators/eco-tur-angola.htm',\n",
       " 'https://www.tours.com/tour_operators/loubsers-tours.htm']"
      ]
     },
     "execution_count": 23,
     "metadata": {},
     "output_type": "execute_result"
    }
   ],
   "source": [
    "links_page2"
   ]
  },
  {
   "cell_type": "code",
   "execution_count": 64,
   "metadata": {},
   "outputs": [],
   "source": [
    "email=[]\n",
    "name=[]\n",
    "hq=[]\n",
    "country=[]"
   ]
  },
  {
   "cell_type": "code",
   "execution_count": 65,
   "metadata": {},
   "outputs": [],
   "source": [
    "def init_driver():\n",
    "    driver=webdriver.Chrome(r'C:\\Users\\Admin\\Documents\\chromedriver_win32\\chromedriver')\n",
    "    driver.wait = WebDriverWait(driver, 5)\n",
    "    return driver"
   ]
  },
  {
   "cell_type": "code",
   "execution_count": 66,
   "metadata": {},
   "outputs": [],
   "source": [
    "def lookup(driver, timeout, link):\n",
    "    driver.get(link)\n",
    "    scroll_pause_time = timeout\n",
    "    email.append(re.sub(r\"Email:\", \"\", str(driver.find_element_by_xpath(\"//div[@class='p s'][5]\").text)))\n",
    "    name.append(re.sub(r\"Tour Operator:\", \"\", str(driver.find_element_by_xpath(\"//div[@class='p']\").text)))\n",
    "    hq.append(re.sub(r\"COMPANY HQ:\", \"\", str(driver.find_element_by_xpath(\"//div[@class='p s'][2]\").text)))\n",
    "    country.append(re.sub(r\"DESTINATION(S):\", \"\", str(driver.find_element_by_xpath(\"//div[@class='p s'][3]\").text)))\n",
    "    return"
   ]
  },
  {
   "cell_type": "code",
   "execution_count": 67,
   "metadata": {},
   "outputs": [],
   "source": [
    "for l in links_page2:\n",
    "    driver = init_driver()\n",
    "    lookup(driver, timeout=5, link=l)\n",
    "    driver.quit()"
   ]
  },
  {
   "cell_type": "code",
   "execution_count": 68,
   "metadata": {},
   "outputs": [
    {
     "data": {
      "text/plain": [
       "43"
      ]
     },
     "execution_count": 68,
     "metadata": {},
     "output_type": "execute_result"
    }
   ],
   "source": [
    "len(email)"
   ]
  },
  {
   "cell_type": "code",
   "execution_count": 69,
   "metadata": {},
   "outputs": [
    {
     "data": {
      "text/plain": [
       "43"
      ]
     },
     "execution_count": 69,
     "metadata": {},
     "output_type": "execute_result"
    }
   ],
   "source": [
    "len(name)"
   ]
  },
  {
   "cell_type": "code",
   "execution_count": 70,
   "metadata": {},
   "outputs": [
    {
     "data": {
      "text/plain": [
       "43"
      ]
     },
     "execution_count": 70,
     "metadata": {},
     "output_type": "execute_result"
    }
   ],
   "source": [
    "len(hq)"
   ]
  },
  {
   "cell_type": "code",
   "execution_count": 71,
   "metadata": {},
   "outputs": [
    {
     "data": {
      "text/plain": [
       "43"
      ]
     },
     "execution_count": 71,
     "metadata": {},
     "output_type": "execute_result"
    }
   ],
   "source": [
    "len(country)"
   ]
  },
  {
   "cell_type": "code",
   "execution_count": 73,
   "metadata": {},
   "outputs": [],
   "source": [
    "df=pd.DataFrame({'Name':name,'Email':email,'Headquarter based (hq)':hq,'Country':country})"
   ]
  },
  {
   "cell_type": "code",
   "execution_count": 74,
   "metadata": {},
   "outputs": [],
   "source": [
    "df.to_excel('scraping_tours.xlsx')"
   ]
  },
  {
   "cell_type": "code",
   "execution_count": null,
   "metadata": {},
   "outputs": [],
   "source": []
  }
 ],
 "metadata": {
  "kernelspec": {
   "display_name": "Python 3",
   "language": "python",
   "name": "python3"
  },
  "language_info": {
   "codemirror_mode": {
    "name": "ipython",
    "version": 3
   },
   "file_extension": ".py",
   "mimetype": "text/x-python",
   "name": "python",
   "nbconvert_exporter": "python",
   "pygments_lexer": "ipython3",
   "version": "3.7.3"
  }
 },
 "nbformat": 4,
 "nbformat_minor": 4
}
