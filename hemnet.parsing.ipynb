{
 "cells": [
  {
   "cell_type": "code",
   "execution_count": 265,
   "metadata": {},
   "outputs": [],
   "source": [
    "import os\n",
    "import re\n",
    "import csv\n",
    "import time\n",
    "import requests\n",
    "import pandas as pd\n",
    "from bs4 import BeautifulSoup as BS\n",
    "from selenium import webdriver\n",
    "from selenium.webdriver.common.by import By\n",
    "from selenium.webdriver.support.ui import WebDriverWait\n",
    "from selenium.common.exceptions import WebDriverException\n",
    "from selenium.webdriver.common.keys import Keys\n",
    "from selenium.webdriver.common.action_chains import ActionChains\n",
    "from selenium.webdriver.support import expected_conditions as EC"
   ]
  },
  {
   "cell_type": "code",
   "execution_count": 297,
   "metadata": {},
   "outputs": [],
   "source": [
    "URL = \"https://www.hemnet.se/bostader?expand_locations=100000\""
   ]
  },
  {
   "cell_type": "code",
   "execution_count": 267,
   "metadata": {},
   "outputs": [],
   "source": [
    "path = 'C:\\\\Users\\\\Admin\\\\Documents\\\\chromedriver_win32\\\\chromedriver.exe'\n",
    "# path = 'write the path to your webdriver'"
   ]
  },
  {
   "cell_type": "code",
   "execution_count": 268,
   "metadata": {},
   "outputs": [],
   "source": [
    "# initializing the webdriver\n",
    "def init_driver():\n",
    "    driver=webdriver.Chrome(path)\n",
    "    driver.wait = WebDriverWait(driver, 5)\n",
    "    return driver"
   ]
  },
  {
   "cell_type": "code",
   "execution_count": 269,
   "metadata": {},
   "outputs": [],
   "source": [
    "def get_Property_Image(soup):\n",
    "    if soup.find('button', class_ = 'gallery-carousel__image-touchable'):\n",
    "        return soup.find('button', class_ = 'gallery-carousel__image-touchable').find('img')['src']\n",
    "    elif soup.find('li', class_ = \"slide\"):\n",
    "        return soup.find('li', class_ = \"slide\").find('button', class_=\"gallery-carousel__image-touchable\").find('img')['src']\n",
    "    else:\n",
    "        return None"
   ]
  },
  {
   "cell_type": "code",
   "execution_count": 270,
   "metadata": {},
   "outputs": [],
   "source": [
    "def get_Contact_name(soup):\n",
    "    try:\n",
    "        return soup.find('p', class_=\"broker-card__text\").find('strong').get_text().strip()\n",
    "    except:\n",
    "        return None"
   ]
  },
  {
   "cell_type": "code",
   "execution_count": 271,
   "metadata": {},
   "outputs": [],
   "source": [
    "def get_Contact_Tel(soup):\n",
    "    try:\n",
    "        return soup.find('div', class_ =  \"qa-broker-phone\").find('a', class_ = \"broker-card__contact-button--link\").get_text().strip()\n",
    "    except:\n",
    "        return None"
   ]
  },
  {
   "cell_type": "code",
   "execution_count": 272,
   "metadata": {},
   "outputs": [],
   "source": [
    "def get_Driftkostnad(soup):\n",
    "    if soup.find('dt', text='Driftkostnad'):\n",
    "        return soup.find('dt', text='Driftkostnad').findNext('dd').get_text()\n",
    "    elif soup.find('dt', text='Pris/m²'):\n",
    "        return soup.find('dt', text='Pris/m²').findNext('dd').get_text()\n",
    "    else:\n",
    "        return None"
   ]
  },
  {
   "cell_type": "code",
   "execution_count": 273,
   "metadata": {},
   "outputs": [],
   "source": [
    "def get_TotalArea(soup):\n",
    "    if soup.find('td', text='Tomtarea'):\n",
    "        return soup.find('td', text='Tomtarea').findNext('dd').get_text()\n",
    "    elif soup.find('dt', class_ = \"property-attributes-table__label\", text='Boarea'):\n",
    "        return  soup.find('dt', class_ = \"property-attributes-table__label\", text='Boarea').findNext('dd').get_text()\n",
    "    else:\n",
    "        return None"
   ]
  },
  {
   "cell_type": "code",
   "execution_count": 274,
   "metadata": {},
   "outputs": [],
   "source": [
    "def get_Description(soup):\n",
    "    if soup.find('div',  class_ = \"property-description js-property-description property-description--long\"):\n",
    "        return soup.find('div',  class_ = \"property-description js-property-description property-description--long\").find('p').get_text()\n",
    "    elif soup.find('div',  class_ = \"property-description js-property-description property-description--expanded\"):\n",
    "        return soup.find('div',  class_ = \"property-description js-property-description property-description--expanded\").find('p').get_text()\n",
    "    else:\n",
    "        return None"
   ]
  },
  {
   "cell_type": "code",
   "execution_count": 275,
   "metadata": {},
   "outputs": [],
   "source": [
    "def get_Price(soup):\n",
    "    try:\n",
    "        return soup.find('p', class_ = \"property-info__price qa-property-price\").text #replace('xc2',' ')\n",
    "    except:\n",
    "        return None"
   ]
  },
  {
   "cell_type": "code",
   "execution_count": 276,
   "metadata": {},
   "outputs": [],
   "source": [
    "def get_Type(soup):\n",
    "    try:\n",
    "        return soup.find(string='Bostadstyp').findNext('dd').get_text()\n",
    "    except:\n",
    "        return None"
   ]
  },
  {
   "cell_type": "code",
   "execution_count": 277,
   "metadata": {},
   "outputs": [],
   "source": [
    "def get_Property_Address1(soup):\n",
    "    try:\n",
    "        return soup.find('h1', class_ = \"qa-property-heading\").get_text()\n",
    "    except:\n",
    "        return None"
   ]
  },
  {
   "cell_type": "code",
   "execution_count": 278,
   "metadata": {},
   "outputs": [],
   "source": [
    "def get_Rooms(soup):\n",
    "    try:\n",
    "        return  soup.find(string='Antal rum').findNext('dd').get_text()\n",
    "    except:\n",
    "        return None"
   ]
  },
  {
   "cell_type": "code",
   "execution_count": 279,
   "metadata": {},
   "outputs": [],
   "source": [
    "def get_Location(soup):\n",
    "    try:\n",
    "        return soup.find('div', class_ = \"property-address__area-container\").find('span', class_ = \"property-address__area\").get_text()\n",
    "    except:\n",
    "        return None"
   ]
  },
  {
   "cell_type": "code",
   "execution_count": 286,
   "metadata": {},
   "outputs": [],
   "source": [
    "fieldnames = ['Contact_name','Contact_Tel','Driftkostnad','TotalArea','Description','Price','Type','Property_Address1','Rooms','Location','Property_Image','Property_URL']\n",
    "df = pd.DataFrame(columns = fieldnames)\n",
    "df.to_csv('filename.csv')"
   ]
  },
  {
   "cell_type": "code",
   "execution_count": 294,
   "metadata": {},
   "outputs": [],
   "source": [
    "number = 0"
   ]
  },
  {
   "cell_type": "code",
   "execution_count": 295,
   "metadata": {},
   "outputs": [],
   "source": [
    "def get_urls(driver,url):\n",
    "    driver.get(url)\n",
    "    while(True):\n",
    "        \n",
    "        oldlist = driver.find_elements_by_xpath(\"//li[@class='normal-results__hit js-normal-list-item']/a\")  \n",
    "        for i in range(0, len(oldlist)):\n",
    "            links = driver.find_elements_by_xpath(\"//li[@class='normal-results__hit js-normal-list-item']/a\")\n",
    "            driver.execute_script(\"\"\"\n",
    "            var div = document.createElement('div');\n",
    "            div.innerHTML = arguments[0].trim();\n",
    "            var link = div.childNodes[0];\n",
    "            link.setAttribute('target','');\n",
    "            link.click();\"\"\", links[i].get_attribute('outerHTML'))\n",
    "            \n",
    "            soup=BS(driver.page_source, 'lxml')\n",
    "            \n",
    "            lists = []\n",
    "            \n",
    "            global number\n",
    "            num = number+1\n",
    "            number +=1\n",
    "\n",
    "            lists.append(num)\n",
    "            \n",
    "            lists.append(get_Contact_name(soup))\n",
    "\n",
    "\n",
    "            lists.append(get_Contact_Tel(soup))\n",
    "\n",
    "\n",
    "            lists.append(get_Driftkostnad(soup))\n",
    "\n",
    "\n",
    "            lists.append(get_TotalArea(soup))\n",
    "\n",
    "\n",
    "            lists.append(get_Description(soup))\n",
    "            \n",
    "\n",
    "            lists.append(get_Price(soup))\n",
    "\n",
    "\n",
    "            lists.append(get_Type(soup))\n",
    "\n",
    "\n",
    "            lists.append(get_Property_Address1(soup))\n",
    "\n",
    "\n",
    "            lists.append(get_Rooms(soup))\n",
    "\n",
    "\n",
    "            lists.append(get_Location(soup))\n",
    "\n",
    "\n",
    "            try:\n",
    "                lists.append(driver.find_elements_by_xpath(\"//button[@class='gallery-carousel__image-touchable']/img\")[0].get_attribute('src'))\n",
    "            except:\n",
    "                lists.append(get_Property_Image(soup))\n",
    "\n",
    "            lists.append(driver.current_url)\n",
    "\n",
    "            with open('filename.csv', \"a\", newline='') as fp:\n",
    "                wr = csv.writer(fp, dialect='excel')\n",
    "                wr.writerow(lists)\n",
    "                fp.close()\n",
    "            driver.back()\n",
    "#           breakdriver.execute_script(\"window.history.go(-1)\")\n",
    "#           driver.execute_script(\"\"\"var a=document.querySelector('div.ReactModalPortal');\n",
    "#                                 if (a) a.parentNode.removeChild(a);\"\"\")\n",
    "        try:\n",
    "            driver.execute_script(\"\"\"var element = document.querySelector(\"a.next_page\");\n",
    "                                element.click();\"\"\")\n",
    "        except:\n",
    "            return"
   ]
  },
  {
   "cell_type": "code",
   "execution_count": 296,
   "metadata": {
    "scrolled": true
   },
   "outputs": [
    {
     "name": "stdout",
     "output_type": "stream",
     "text": [
      "1\n",
      "2\n",
      "3\n",
      "4\n",
      "5\n",
      "6\n",
      "7\n",
      "8\n",
      "9\n",
      "10\n",
      "11\n",
      "12\n",
      "13\n",
      "14\n",
      "15\n",
      "16\n",
      "17\n",
      "18\n",
      "19\n",
      "20\n",
      "21\n",
      "22\n",
      "23\n",
      "24\n",
      "25\n",
      "26\n",
      "27\n",
      "28\n",
      "29\n",
      "30\n",
      "31\n",
      "32\n",
      "33\n",
      "34\n",
      "35\n",
      "36\n",
      "37\n",
      "38\n",
      "39\n",
      "40\n",
      "41\n",
      "42\n",
      "43\n",
      "44\n",
      "45\n",
      "46\n",
      "47\n",
      "48\n",
      "49\n",
      "50\n",
      "51\n",
      "52\n",
      "53\n",
      "54\n",
      "55\n",
      "56\n",
      "57\n",
      "58\n",
      "59\n",
      "60\n",
      "61\n",
      "62\n",
      "63\n",
      "64\n",
      "65\n",
      "66\n",
      "67\n",
      "68\n",
      "69\n",
      "70\n",
      "71\n",
      "72\n",
      "73\n",
      "74\n",
      "75\n",
      "76\n",
      "77\n",
      "78\n",
      "79\n",
      "80\n",
      "81\n",
      "82\n",
      "83\n",
      "84\n",
      "85\n",
      "86\n",
      "87\n",
      "88\n",
      "89\n",
      "90\n",
      "91\n",
      "92\n",
      "93\n",
      "94\n",
      "95\n",
      "96\n",
      "97\n",
      "98\n",
      "99\n",
      "100\n"
     ]
    }
   ],
   "source": [
    "driver = init_driver()\n",
    "get_urls(driver, URL)\n",
    "driver.close()"
   ]
  },
  {
   "cell_type": "code",
   "execution_count": 97,
   "metadata": {},
   "outputs": [],
   "source": [
    "# df=pd.DataFrame({'Contact_name':Contact_name, 'Contact_Tel':Contact_Tel, 'Driftkostnad':Driftkostnad, 'TotalArea':TotalArea, 'Description':Description, 'Price':Price, 'Type':Type, 'Property_Address1':Property_Address1, 'Rooms':Rooms, 'Location':Location, 'Property_Image':Property_Image, 'Property_URL':Property_URL})"
   ]
  },
  {
   "cell_type": "code",
   "execution_count": 98,
   "metadata": {},
   "outputs": [],
   "source": [
    "# df.to_csv('hemnet.se.csv')"
   ]
  }
 ],
 "metadata": {
  "kernelspec": {
   "display_name": "Python 3",
   "language": "python",
   "name": "python3"
  },
  "language_info": {
   "codemirror_mode": {
    "name": "ipython",
    "version": 3
   },
   "file_extension": ".py",
   "mimetype": "text/x-python",
   "name": "python",
   "nbconvert_exporter": "python",
   "pygments_lexer": "ipython3",
   "version": "3.7.3"
  }
 },
 "nbformat": 4,
 "nbformat_minor": 4
}
